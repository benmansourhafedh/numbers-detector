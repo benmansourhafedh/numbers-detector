{
 "cells": [
  {
   "cell_type": "code",
   "execution_count": 3,
   "metadata": {},
   "outputs": [
    {
     "name": "stdout",
     "output_type": "stream",
     "text": [
      "Starting data preprocessing...\n",
      "Loading images...\n"
     ]
    },
    {
     "name": "stderr",
     "output_type": "stream",
     "text": [
      "Processing folders: 100%|██████████| 10/10 [05:19<00:00, 31.93s/folder]\n"
     ]
    },
    {
     "name": "stdout",
     "output_type": "stream",
     "text": [
      "Splitting data into train, validation, and test sets...\n",
      "Saving processed data...\n"
     ]
    },
    {
     "name": "stderr",
     "output_type": "stream",
     "text": [
      "Saving files: 100%|██████████| 6/6 [00:00<00:00, 18.01file/s]"
     ]
    },
    {
     "name": "stdout",
     "output_type": "stream",
     "text": [
      "\n",
      "Data successfully split into train, validation, and test sets!\n",
      "Training set: 12933 samples\n",
      "Validation set: 4311 samples\n",
      "Test set: 4311 samples\n"
     ]
    },
    {
     "name": "stderr",
     "output_type": "stream",
     "text": [
      "\n"
     ]
    }
   ],
   "source": [
    "import os\n",
    "import numpy as np\n",
    "import cv2\n",
    "from tqdm import tqdm  # Import tqdm for progress bars\n",
    "from sklearn.model_selection import train_test_split\n",
    "\n",
    "# Path to dataset\n",
    "DATA_DIR = 'data'\n",
    "\n",
    "# Parameters\n",
    "IMG_SIZE = 28  # Resize images to 28x28 (like MNIST)\n",
    "NUM_CLASSES = 10\n",
    "\n",
    "def load_data(data_dir):\n",
    "    images, labels = [], []\n",
    "    print(\"Loading images...\")\n",
    "    for label in tqdm(range(NUM_CLASSES), desc=\"Processing folders\", unit=\"folder\"):\n",
    "        folder_path = os.path.join(data_dir, str(label))\n",
    "        for file_name in tqdm(os.listdir(folder_path), desc=f\"Loading {label}\", unit=\"file\", leave=False):\n",
    "            img_path = os.path.join(folder_path, file_name)\n",
    "            img = cv2.imread(img_path, cv2.IMREAD_GRAYSCALE)  # Load as grayscale\n",
    "            img_resized = cv2.resize(img, (IMG_SIZE, IMG_SIZE))\n",
    "            images.append(img_resized)\n",
    "            labels.append(label)\n",
    "    images = np.array(images) / 255.0  # Normalize to [0, 1]\n",
    "    labels = np.array(labels)\n",
    "    return images, labels\n",
    "\n",
    "# Load and split data\n",
    "if __name__ == \"__main__\":\n",
    "    print(\"Starting data preprocessing...\")\n",
    "    images, labels = load_data(DATA_DIR)\n",
    "    \n",
    "    print(\"Splitting data into train, validation, and test sets...\")\n",
    "    # First split: Train + Validation/Test\n",
    "    X_temp, X_test, y_temp, y_test = train_test_split(\n",
    "        images, labels, test_size=0.2, random_state=42\n",
    "    )\n",
    "    \n",
    "    # Second split: Train/Validation\n",
    "    X_train, X_val, y_train, y_val = train_test_split(\n",
    "        X_temp, y_temp, test_size=0.25, random_state=42\n",
    "    )  \n",
    "    # 0.25 x 0.8 = 0.2 (20% validation)\n",
    "\n",
    "    # Save data to files\n",
    "    print(\"Saving processed data...\")\n",
    "    with tqdm(total=6, desc=\"Saving files\", unit=\"file\") as pbar:\n",
    "        np.save('X_train.npy', X_train)\n",
    "        pbar.update(1)\n",
    "        np.save('X_val.npy', X_val)\n",
    "        pbar.update(1)\n",
    "        np.save('X_test.npy', X_test)\n",
    "        pbar.update(1)\n",
    "        np.save('y_train.npy', y_train)\n",
    "        pbar.update(1)\n",
    "        np.save('y_val.npy', y_val)\n",
    "        pbar.update(1)\n",
    "        np.save('y_test.npy', y_test)\n",
    "        pbar.update(1)\n",
    "    \n",
    "    print(\"\\nData successfully split into train, validation, and test sets!\")\n",
    "    print(f\"Training set: {len(X_train)} samples\")\n",
    "    print(f\"Validation set: {len(X_val)} samples\")\n",
    "    print(f\"Test set: {len(X_test)} samples\")\n"
   ]
  }
 ],
 "metadata": {
  "kernelspec": {
   "display_name": "Python 3",
   "language": "python",
   "name": "python3"
  },
  "language_info": {
   "codemirror_mode": {
    "name": "ipython",
    "version": 3
   },
   "file_extension": ".py",
   "mimetype": "text/x-python",
   "name": "python",
   "nbconvert_exporter": "python",
   "pygments_lexer": "ipython3",
   "version": "3.12.3"
  }
 },
 "nbformat": 4,
 "nbformat_minor": 2
}
